{
 "cells": [
  {
   "cell_type": "markdown",
   "id": "82635a6a",
   "metadata": {},
   "source": [
    "# Python Assignment: 7"
   ]
  },
  {
   "cell_type": "markdown",
   "id": "1cb054cd",
   "metadata": {},
   "source": [
    "* Name:  Shubham Mhaske\n",
    "* Batch: FSDSM May 2023"
   ]
  },
  {
   "cell_type": "markdown",
   "id": "ea87bd57",
   "metadata": {},
   "source": [
    "## 1. Create two int type variables, apply addition, subtraction, division and multiplications and store the results in variables. Then print the data in the following format by calling the variables: \n",
    "* First variable is __ & second variable is __.\n",
    "* Addition: __ + __ = __\n",
    "* Subtraction: __ - __ = __\n",
    "* Multiplication: __ * __ = __\n",
    "* Division: __ / __ = __"
   ]
  },
  {
   "cell_type": "code",
   "execution_count": 5,
   "id": "15840d39",
   "metadata": {},
   "outputs": [
    {
     "name": "stdout",
     "output_type": "stream",
     "text": [
      "Enter a first number:30\n",
      "Enter a second number:15\n",
      "\n",
      "First variable is 30 & second variable is 15\n",
      "\n",
      "Addition: 30 + 15 = 45\n",
      "Subtraction: 30 - 15 = 15\n",
      "Multiplication: 30 * 15 = 450\n",
      "Division: 30 / 15 = 2.0\n"
     ]
    }
   ],
   "source": [
    "number1 = int(input(\"Enter a first number:\"))\n",
    "number2 = int(input(\"Enter a second number:\"))\n",
    "\n",
    "print(f\"\\nFirst variable is {number1} & second variable is {number2}\")\n",
    "\n",
    "print(f'\\nAddition: {number1} + {number2} = {number1+number2}')\n",
    "print(f'Subtraction: {number1} - {number2} = {number1-number2}')\n",
    "print(f'Multiplication: {number1} * {number2} = {number1*number2}')\n",
    "print(f'Division: {number1} / {number2} = {number1/number2}')"
   ]
  },
  {
   "cell_type": "markdown",
   "id": "9ebfdb99",
   "metadata": {},
   "source": [
    "## 2. What is the difference between the following operators:\n",
    "* ‘/’ & ‘//’\n",
    "* ‘**’ & ‘^’"
   ]
  },
  {
   "cell_type": "markdown",
   "id": "ea1875b7",
   "metadata": {},
   "source": [
    "#### Division using the '/' operator:\n",
    "    1. This method of division is considered as the classic division.\n",
    "    2. The '/' single slash carries out the float division. The output of this operator is always a quotient with a float datatype. \n",
    "    3. The output remains float even if the input numbers are integer values.\n",
    "    4. For example, 15 divided by 3 is 5.0\n",
    "    \n",
    "    \n",
    "#### Division using the '//' operator::\n",
    "    1. This method of division is considered the true division. \n",
    "    2. The '//' double slash carries out integer division which is also known as floor division. \n",
    "    3. The output of this operator will be the quotient rounded off to the closest whole number. \n",
    "    4. For example, 15 divided by 6 is actually 2.5 but it gets rounded off to 2."
   ]
  },
  {
   "cell_type": "markdown",
   "id": "f9fb05c3",
   "metadata": {},
   "source": [
    "#### '**' Double Asterisk or Exponentiation Operator':\n",
    "    1. The ** operator is used for exponentiation or raising a number to a power. It takes two operands: the base number and the exponent. The result is the base raised to the power of the exponent. \n",
    "    2. Example : 2 ** 3 = 8\n",
    "    \n",
    "    \n",
    "#### '^' Bitwise XOR Operator:\n",
    "    1. The ^ operator is used as a bitwise XOR (exclusive OR) operator. It performs the XOR operation between the bits of two numbers. It compares corresponding bits and returns 1 if they are different, and 0 if they are the same.\n",
    "    2. Example :  a = 5, b =3,    a^b = 6 (110 in binary) "
   ]
  },
  {
   "cell_type": "markdown",
   "id": "67e2c3b9",
   "metadata": {},
   "source": [
    "## 3. List the logical operators"
   ]
  },
  {
   "cell_type": "markdown",
   "id": "899e87d4",
   "metadata": {},
   "source": [
    "### The logical operators in Python are:\n",
    "\n",
    "#### AND Operator:\n",
    "* The AND operator returns True if both operands are True, otherwise it returns False.\n",
    "\n",
    "#### OR Operator:\n",
    "* The OR operator returns True if at least one of the operands is True, otherwise it returns False.\n",
    "\n",
    "#### NOT Operator:\n",
    "* The NOT operator is a unary operator that negates the value of its operand. If the operand is True, not returns False. If the operand is False, not returns True.\n"
   ]
  },
  {
   "cell_type": "markdown",
   "id": "58793fbe",
   "metadata": {},
   "source": [
    "## 4. Explain right shift operator and left shift operator with examples."
   ]
  },
  {
   "cell_type": "markdown",
   "id": "d1f52cbf",
   "metadata": {},
   "source": [
    "#### Right Shift Operator (>>):\n",
    "* The right shift operator (>>) moves the bits of a number to the right by a specified number of positions."
   ]
  },
  {
   "cell_type": "code",
   "execution_count": 8,
   "id": "a1251801",
   "metadata": {},
   "outputs": [
    {
     "name": "stdout",
     "output_type": "stream",
     "text": [
      "2\n"
     ]
    }
   ],
   "source": [
    "#Example of Right Shift Operator (>>)\n",
    "x = 8   # Binary: 1000\n",
    "result = x >> 2\n",
    "print(result)   #Binary: 0010"
   ]
  },
  {
   "cell_type": "markdown",
   "id": "feec47c8",
   "metadata": {},
   "source": [
    "#### Left Shift Operator (<<):\n",
    "* The left shift operator (<<) moves the bits of a number to the left by a specified number of positions."
   ]
  },
  {
   "cell_type": "code",
   "execution_count": 9,
   "id": "85aea128",
   "metadata": {},
   "outputs": [
    {
     "name": "stdout",
     "output_type": "stream",
     "text": [
      "12\n"
     ]
    }
   ],
   "source": [
    "#Example of Left Shift Operator (<<)\n",
    "x = 3   # Binary: 0011\n",
    "result = x << 2\n",
    "print(result)   # Binary: 1100"
   ]
  },
  {
   "cell_type": "markdown",
   "id": "9f32faec",
   "metadata": {},
   "source": [
    "## 5. Create a list containing int type data of length 15. Then write a code to check if 10 is present in the list or not."
   ]
  },
  {
   "cell_type": "code",
   "execution_count": 7,
   "id": "7381b0d5",
   "metadata": {},
   "outputs": [
    {
     "name": "stdout",
     "output_type": "stream",
     "text": [
      "10 is present in the list.\n"
     ]
    }
   ],
   "source": [
    "list = [5, 2, 8, 10, 7, 3, 12, 15, 9, 6, 4, 1, 14, 11, 13]\n",
    "\n",
    "# Check if 10 is present in the list\n",
    "if 10 in list:\n",
    "    print(\"10 is present in the given list.\")\n",
    "    \n",
    "else:\n",
    "    print(\"10 is not present in the given list.\")"
   ]
  }
 ],
 "metadata": {
  "kernelspec": {
   "display_name": "Python 3",
   "language": "python",
   "name": "python3"
  },
  "language_info": {
   "codemirror_mode": {
    "name": "ipython",
    "version": 3
   },
   "file_extension": ".py",
   "mimetype": "text/x-python",
   "name": "python",
   "nbconvert_exporter": "python",
   "pygments_lexer": "ipython3",
   "version": "3.8.8"
  }
 },
 "nbformat": 4,
 "nbformat_minor": 5
}
