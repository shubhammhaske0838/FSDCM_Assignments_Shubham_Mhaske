{
 "cells": [
  {
   "cell_type": "markdown",
   "id": "82635a6a",
   "metadata": {},
   "source": [
    "# Python Assignment: 1"
   ]
  },
  {
   "cell_type": "markdown",
   "id": "1cb054cd",
   "metadata": {},
   "source": [
    "* Name:  Shubham Mhaske\n",
    "* Batch: FSDSM May 2023"
   ]
  },
  {
   "cell_type": "markdown",
   "id": "ea87bd57",
   "metadata": {},
   "source": [
    "## 1. In the below elements which of them are values or an expression? eg:- values can be integer or string and expressions will be mathematical operators."
   ]
  },
  {
   "cell_type": "raw",
   "id": "18cb7010",
   "metadata": {},
   "source": [
    "1.   *       : Mathematical operator\n",
    "\n",
    "2.  'hello'  : string\n",
    "\n",
    "3.  -87.8    : float\n",
    "\n",
    "4.   -       : Mathematical operator\n",
    "\n",
    "5.   /       : Mathematical operator\n",
    "\n",
    "6.   +       : Mathematical operator\n",
    "\n",
    "7.   6       : integer"
   ]
  },
  {
   "cell_type": "markdown",
   "id": "9ebfdb99",
   "metadata": {},
   "source": [
    "## 2. What is the difference between string and variable?"
   ]
  },
  {
   "cell_type": "markdown",
   "id": "ea1875b7",
   "metadata": {},
   "source": [
    "* String:\n",
    "    1. Strings are sequences of characters that are used for conveying textual information.\n",
    "    2. String value must be enclosed in double quote or single quote.\n",
    "    3. In string, multiple letters or digits can be enclosed in double or single quotations.\n",
    "    \n",
    "    \n",
    "* Variable:\n",
    "    1. Those quantities, whose value may be change during the execution of program are called variable.\n",
    "    2. Variables you can use to store data/value in a program.\n",
    "    3. Two types of variable: i. Numeric Variable      ii. String variable"
   ]
  },
  {
   "cell_type": "markdown",
   "id": "9f32faec",
   "metadata": {},
   "source": [
    "## 3. Describe three different data types."
   ]
  },
  {
   "cell_type": "markdown",
   "id": "c05ebe79",
   "metadata": {},
   "source": [
    "### Python Data Types:\n",
    "\n",
    "1. Numeric: int, float, complex : Holds numeric values\n",
    "\n",
    "2. String: str : Holds sequence of characters\n",
    "\n",
    "3. Sequence: list, tuple, range : Holds collection of items\n",
    "\n",
    "4. Mapping: dict : Holds data in key-value pair form\n",
    "\n",
    "5. Set: set, frozeenset : Hold collection of unique items"
   ]
  },
  {
   "cell_type": "markdown",
   "id": "14d8f25b",
   "metadata": {},
   "source": [
    "## 4. What is an expression made up of? What do all expressions do?"
   ]
  },
  {
   "cell_type": "markdown",
   "id": "bb9c9fb2",
   "metadata": {},
   "source": [
    "* An expression is a combination of values, variables, operators, and calls to functionsthat can be evaluated to produce a result.\n",
    "* Expressions can be as simple as a single value or as complex as a combination of multiple values and operations.\n",
    "* The primary purpose of an expression is to produce a value. When an expression is evaluated, the values, variables, and operators are combined and processed according to the rules of the programming language to generate a result. \n",
    "* Expressions are fundamental building blocks in programming, used to perform calculations, make decisions, manipulate data, and control program flow"
   ]
  },
  {
   "cell_type": "markdown",
   "id": "9a01b6b7",
   "metadata": {},
   "source": [
    "## 5. This assignment statements, like spam = 10. What is the difference between an expression and a statement?"
   ]
  },
  {
   "cell_type": "markdown",
   "id": "08c1ac99",
   "metadata": {},
   "source": [
    "#### Expression:\n",
    "* An expression is a combination of values, variables, operators, and function calls that can be evaluated to produce a value. \n",
    "* Example: spam = 10 here spam is variable, = is operator and 10 is value.\n",
    "* If we solve this expressions and print spam we will get 10 as an output\n",
    "\n",
    "#### Statement:\n",
    "* statement is a complete instruction or action that performs a specific task.\n",
    "* Statements can include expressions, but they can also contain control flow structures.\n",
    "\n",
    "#### spam = 10\n",
    "* In the assignment statement you provided, \"spam = 10,\" the expression is \"10,\" which represents a constant value. The statement assigns the value of the expression to the variable \"spam.\" The statement itself does not produce a value, but it changes the state of the program by assigning the value to the variable."
   ]
  },
  {
   "cell_type": "markdown",
   "id": "0ae535ec",
   "metadata": {},
   "source": [
    "## 6. After running the following code, what does the variable bacon contain?\n",
    "* bacon = 22     \n",
    "* bacon + 1"
   ]
  },
  {
   "cell_type": "code",
   "execution_count": 4,
   "id": "ac219a1c",
   "metadata": {},
   "outputs": [
    {
     "name": "stdout",
     "output_type": "stream",
     "text": [
      "22\n"
     ]
    }
   ],
   "source": [
    "bacon = 22\n",
    "bacon + 1\n",
    "print(bacon)  "
   ]
  },
  {
   "cell_type": "markdown",
   "id": "74726e30",
   "metadata": {},
   "source": [
    "* If we take bacon = bacon + 1 in that case bacon value will be increase and we will get backon = 23"
   ]
  },
  {
   "cell_type": "markdown",
   "id": "8c05053d",
   "metadata": {},
   "source": [
    "## 7. What should the values of the following two terms be?\n",
    "* 'spam' + 'spamspam'\n",
    "* 'spam' * 3\n"
   ]
  },
  {
   "cell_type": "code",
   "execution_count": 5,
   "id": "599e452f",
   "metadata": {},
   "outputs": [
    {
     "name": "stdout",
     "output_type": "stream",
     "text": [
      "1st statement output: spamspamspam\n",
      "2nd statement output: spamspamspam\n"
     ]
    }
   ],
   "source": [
    "a = 'spam' + 'spamspam'\n",
    "b =  'spam' * 3\n",
    "\n",
    "print(f\"1st statement output:\", a)\n",
    "print(f\"2nd statement output:\", b)"
   ]
  },
  {
   "cell_type": "markdown",
   "id": "aa3ab258",
   "metadata": {},
   "source": [
    "## 8. Why is eggs a valid variable name while 100 is invalid?"
   ]
  },
  {
   "cell_type": "markdown",
   "id": "dbfcb573",
   "metadata": {},
   "source": [
    "* Because variable name cannot start with digit and in our case 100 is digit that's why eggs is a valid variable name while 100 is invalid"
   ]
  },
  {
   "cell_type": "markdown",
   "id": "ad58ce35",
   "metadata": {},
   "source": [
    "## 9. What three functions can be used to get the integer, floating-point number, or string version of a value?"
   ]
  },
  {
   "cell_type": "markdown",
   "id": "8e7f6371",
   "metadata": {},
   "source": [
    "* The int() , float() , and str( ) functions will evaluate to the integer, floating-point number, and string versions of the value passed to them."
   ]
  },
  {
   "cell_type": "markdown",
   "id": "f23b37c2",
   "metadata": {},
   "source": [
    "## 10. Why does this expression cause an error? How can you fix it?\n",
    "* 'I have eaten ' + 99 + ' burritos.'"
   ]
  },
  {
   "cell_type": "code",
   "execution_count": 8,
   "id": "77a7271f",
   "metadata": {},
   "outputs": [
    {
     "name": "stdout",
     "output_type": "stream",
     "text": [
      "fixed_statement: I have eaten 99 burritos.\n"
     ]
    }
   ],
   "source": [
    "# Because in this statement('I have eaten ' + 99 + ' burritos') we try to concatenate string + integer datatypes. \n",
    "#To fixed this statement we required all in string format \n",
    "\n",
    "#original_statement = 'I have eaten ' + 99 + ' burritos.'\n",
    "#TypeError: can only concatenate str (not \"int\") to str\n",
    "\n",
    "fixed_statement = 'I have eaten ' + \"99\" + ' burritos.'\n",
    "print('fixed_statement:',fixed_statement)"
   ]
  }
 ],
 "metadata": {
  "kernelspec": {
   "display_name": "Python 3",
   "language": "python",
   "name": "python3"
  },
  "language_info": {
   "codemirror_mode": {
    "name": "ipython",
    "version": 3
   },
   "file_extension": ".py",
   "mimetype": "text/x-python",
   "name": "python",
   "nbconvert_exporter": "python",
   "pygments_lexer": "ipython3",
   "version": "3.8.8"
  }
 },
 "nbformat": 4,
 "nbformat_minor": 5
}
